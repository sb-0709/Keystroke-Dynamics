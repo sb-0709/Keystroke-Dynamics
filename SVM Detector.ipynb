{
 "cells": [
  {
   "cell_type": "code",
   "execution_count": 4,
   "metadata": {},
   "outputs": [],
   "source": [
    "#pip install scikit-learn"
   ]
  },
  {
   "cell_type": "code",
   "execution_count": 1,
   "metadata": {},
   "outputs": [],
   "source": [
    "#pip install scikit-learn --upgrade"
   ]
  },
  {
   "cell_type": "code",
   "execution_count": 1,
   "metadata": {},
   "outputs": [
    {
     "name": "stdout",
     "output_type": "stream",
     "text": [
      "average EER for SVM detector: \n",
      "0.10818661068682427\n"
     ]
    }
   ],
   "source": [
    "#Keystroke_Manhattan_Filtered_Detector.py\n",
    " \n",
    "from scipy.spatial.distance import cityblock\n",
    "import numpy as np\n",
    "np.set_printoptions(suppress = True)\n",
    "import pandas\n",
    "from sklearn import metrics\n",
    "from sklearn.svm import OneClassSVM\n",
    "\n",
    "#function to evaluate equal error rate (EER) for the detector\n",
    "def evaluateEER(user_scores, imposter_scores):\n",
    "    labels = [0]*len(user_scores) + [1]*len(imposter_scores)\n",
    "    fpr, tpr, thresholds = metrics.roc_curve(labels, user_scores + imposter_scores)\n",
    "    missrates = 1 - tpr\n",
    "    farates = fpr\n",
    "    dists = missrates - farates\n",
    "    idx1 = np.argmin(dists[dists >= 0])\n",
    "    idx2 = np.argmax(dists[dists < 0])\n",
    "    x = [missrates[idx1], farates[idx1]]\n",
    "    y = [missrates[idx2], farates[idx2]]\n",
    "    a = ( x[0] - x[1] ) / ( y[1] - x[1] - y[0] + x[0] )\n",
    "    eer = x[0] + a * ( y[0] - x[0] )\n",
    "    return eer\n",
    " \n",
    "class SVMDetector:\n",
    "  \n",
    "    def __init__(self, subjects):\n",
    "        self.user_scores = []\n",
    "        self.imposter_scores = []\n",
    "        self.subjects = subjects\n",
    "  \n",
    "    def training(self):\n",
    "        self.clf = OneClassSVM(kernel='rbf',gamma=26)\n",
    "        self.clf.fit(self.train)\n",
    "  \n",
    "    def testing(self):\n",
    "        self.user_scores = -self.clf.decision_function(self.test_genuine)\n",
    "        self.imposter_scores = -self.clf.decision_function(self.test_imposter)\n",
    "        self.user_scores = list(self.user_scores)\n",
    "        self.imposter_scores = list(self.imposter_scores)\n",
    "  \n",
    "    def evaluate(self):\n",
    "        eers = []\n",
    "  \n",
    "        for subject in subjects:        \n",
    "            genuine_user_data = data.loc[data.subject == subject, \"H.period\":\"H.Return\"]\n",
    "            imposter_data = data.loc[data.subject != subject, :]\n",
    "             \n",
    "            self.train = genuine_user_data[:300]\n",
    "            self.train = self.train.values\n",
    "            self.train = np.array(self.train)\n",
    "            self.test_genuine = genuine_user_data[300:]\n",
    "            self.test_genuine = self.test_genuine.values\n",
    "            self.test_genuine = np.array(self.test_genuine)\n",
    "            self.test_imposter = imposter_data.groupby(\"subject\"). head(5).loc[:, \"H.period\":\"H.Return\"]\n",
    "            self.test_imposter = self.test_imposter.values\n",
    "            self.test_imposter = np.array(self.test_imposter)\n",
    "            \n",
    "            self.training()\n",
    "            self.testing()\n",
    "            eers.append(evaluateEER(self.user_scores, self.imposter_scores))\n",
    "        return np.mean(eers)\n",
    "\n",
    "#loading of dataset\n",
    "data = pandas.read_csv(\"C:/Users/Sanskriti/Downloads/DSL-StrongPasswordData.csv\")\n",
    "subjects = data[\"subject\"].unique()\n",
    "print (\"average EER for SVM detector: \")\n",
    "print(SVMDetector(subjects).evaluate())"
   ]
  },
  {
   "cell_type": "code",
   "execution_count": null,
   "metadata": {},
   "outputs": [],
   "source": []
  }
 ],
 "metadata": {
  "kernelspec": {
   "display_name": "Python 3",
   "language": "python",
   "name": "python3"
  },
  "language_info": {
   "codemirror_mode": {
    "name": "ipython",
    "version": 3
   },
   "file_extension": ".py",
   "mimetype": "text/x-python",
   "name": "python",
   "nbconvert_exporter": "python",
   "pygments_lexer": "ipython3",
   "version": "3.8.5"
  }
 },
 "nbformat": 4,
 "nbformat_minor": 4
}
